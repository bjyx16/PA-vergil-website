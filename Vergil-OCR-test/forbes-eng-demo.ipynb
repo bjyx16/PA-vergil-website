{
 "cells": [
  {
   "cell_type": "code",
   "execution_count": 1,
   "metadata": {},
   "outputs": [
    {
     "ename": "TesseractError",
     "evalue": "(1, 'Error, cannot read input file /Users/bailey/Downloads/data-science/Vergil-OCR-test/images/forbes-demo-eng.jpg: No such file or directory Error during processing.')",
     "output_type": "error",
     "traceback": [
      "\u001b[0;31m---------------------------------------------------------------------------\u001b[0m",
      "\u001b[0;31mTesseractError\u001b[0m                            Traceback (most recent call last)",
      "Cell \u001b[0;32mIn[1], line 3\u001b[0m\n\u001b[1;32m      1\u001b[0m \u001b[38;5;28;01mimport\u001b[39;00m \u001b[38;5;21;01mpytesseract\u001b[39;00m\n\u001b[0;32m----> 3\u001b[0m text \u001b[38;5;241m=\u001b[39m \u001b[43mpytesseract\u001b[49m\u001b[38;5;241;43m.\u001b[39;49m\u001b[43mimage_to_string\u001b[49m\u001b[43m(\u001b[49m\u001b[38;5;124;43m'\u001b[39;49m\u001b[38;5;124;43m/Users/bailey/Downloads/data-science/Vergil-OCR-test/images/forbes-demo-eng.jpg\u001b[39;49m\u001b[38;5;124;43m'\u001b[39;49m\u001b[43m)\u001b[49m\n\u001b[1;32m      4\u001b[0m \u001b[38;5;28mprint\u001b[39m(text)\n",
      "File \u001b[0;32m~/Downloads/PA-vergil-website/venv/lib/python3.12/site-packages/pytesseract/pytesseract.py:423\u001b[0m, in \u001b[0;36mimage_to_string\u001b[0;34m(image, lang, config, nice, output_type, timeout)\u001b[0m\n\u001b[1;32m    418\u001b[0m \u001b[38;5;250m\u001b[39m\u001b[38;5;124;03m\"\"\"\u001b[39;00m\n\u001b[1;32m    419\u001b[0m \u001b[38;5;124;03mReturns the result of a Tesseract OCR run on the provided image to string\u001b[39;00m\n\u001b[1;32m    420\u001b[0m \u001b[38;5;124;03m\"\"\"\u001b[39;00m\n\u001b[1;32m    421\u001b[0m args \u001b[38;5;241m=\u001b[39m [image, \u001b[38;5;124m'\u001b[39m\u001b[38;5;124mtxt\u001b[39m\u001b[38;5;124m'\u001b[39m, lang, config, nice, timeout]\n\u001b[0;32m--> 423\u001b[0m \u001b[38;5;28;01mreturn\u001b[39;00m \u001b[43m{\u001b[49m\n\u001b[1;32m    424\u001b[0m \u001b[43m    \u001b[49m\u001b[43mOutput\u001b[49m\u001b[38;5;241;43m.\u001b[39;49m\u001b[43mBYTES\u001b[49m\u001b[43m:\u001b[49m\u001b[43m \u001b[49m\u001b[38;5;28;43;01mlambda\u001b[39;49;00m\u001b[43m:\u001b[49m\u001b[43m \u001b[49m\u001b[43mrun_and_get_output\u001b[49m\u001b[43m(\u001b[49m\u001b[38;5;241;43m*\u001b[39;49m\u001b[43m(\u001b[49m\u001b[43margs\u001b[49m\u001b[43m \u001b[49m\u001b[38;5;241;43m+\u001b[39;49m\u001b[43m \u001b[49m\u001b[43m[\u001b[49m\u001b[38;5;28;43;01mTrue\u001b[39;49;00m\u001b[43m]\u001b[49m\u001b[43m)\u001b[49m\u001b[43m)\u001b[49m\u001b[43m,\u001b[49m\n\u001b[1;32m    425\u001b[0m \u001b[43m    \u001b[49m\u001b[43mOutput\u001b[49m\u001b[38;5;241;43m.\u001b[39;49m\u001b[43mDICT\u001b[49m\u001b[43m:\u001b[49m\u001b[43m \u001b[49m\u001b[38;5;28;43;01mlambda\u001b[39;49;00m\u001b[43m:\u001b[49m\u001b[43m \u001b[49m\u001b[43m{\u001b[49m\u001b[38;5;124;43m'\u001b[39;49m\u001b[38;5;124;43mtext\u001b[39;49m\u001b[38;5;124;43m'\u001b[39;49m\u001b[43m:\u001b[49m\u001b[43m \u001b[49m\u001b[43mrun_and_get_output\u001b[49m\u001b[43m(\u001b[49m\u001b[38;5;241;43m*\u001b[39;49m\u001b[43margs\u001b[49m\u001b[43m)\u001b[49m\u001b[43m}\u001b[49m\u001b[43m,\u001b[49m\n\u001b[1;32m    426\u001b[0m \u001b[43m    \u001b[49m\u001b[43mOutput\u001b[49m\u001b[38;5;241;43m.\u001b[39;49m\u001b[43mSTRING\u001b[49m\u001b[43m:\u001b[49m\u001b[43m \u001b[49m\u001b[38;5;28;43;01mlambda\u001b[39;49;00m\u001b[43m:\u001b[49m\u001b[43m \u001b[49m\u001b[43mrun_and_get_output\u001b[49m\u001b[43m(\u001b[49m\u001b[38;5;241;43m*\u001b[39;49m\u001b[43margs\u001b[49m\u001b[43m)\u001b[49m\u001b[43m,\u001b[49m\n\u001b[1;32m    427\u001b[0m \u001b[43m\u001b[49m\u001b[43m}\u001b[49m\u001b[43m[\u001b[49m\u001b[43moutput_type\u001b[49m\u001b[43m]\u001b[49m\u001b[43m(\u001b[49m\u001b[43m)\u001b[49m\n",
      "File \u001b[0;32m~/Downloads/PA-vergil-website/venv/lib/python3.12/site-packages/pytesseract/pytesseract.py:426\u001b[0m, in \u001b[0;36mimage_to_string.<locals>.<lambda>\u001b[0;34m()\u001b[0m\n\u001b[1;32m    418\u001b[0m \u001b[38;5;250m\u001b[39m\u001b[38;5;124;03m\"\"\"\u001b[39;00m\n\u001b[1;32m    419\u001b[0m \u001b[38;5;124;03mReturns the result of a Tesseract OCR run on the provided image to string\u001b[39;00m\n\u001b[1;32m    420\u001b[0m \u001b[38;5;124;03m\"\"\"\u001b[39;00m\n\u001b[1;32m    421\u001b[0m args \u001b[38;5;241m=\u001b[39m [image, \u001b[38;5;124m'\u001b[39m\u001b[38;5;124mtxt\u001b[39m\u001b[38;5;124m'\u001b[39m, lang, config, nice, timeout]\n\u001b[1;32m    423\u001b[0m \u001b[38;5;28;01mreturn\u001b[39;00m {\n\u001b[1;32m    424\u001b[0m     Output\u001b[38;5;241m.\u001b[39mBYTES: \u001b[38;5;28;01mlambda\u001b[39;00m: run_and_get_output(\u001b[38;5;241m*\u001b[39m(args \u001b[38;5;241m+\u001b[39m [\u001b[38;5;28;01mTrue\u001b[39;00m])),\n\u001b[1;32m    425\u001b[0m     Output\u001b[38;5;241m.\u001b[39mDICT: \u001b[38;5;28;01mlambda\u001b[39;00m: {\u001b[38;5;124m'\u001b[39m\u001b[38;5;124mtext\u001b[39m\u001b[38;5;124m'\u001b[39m: run_and_get_output(\u001b[38;5;241m*\u001b[39margs)},\n\u001b[0;32m--> 426\u001b[0m     Output\u001b[38;5;241m.\u001b[39mSTRING: \u001b[38;5;28;01mlambda\u001b[39;00m: \u001b[43mrun_and_get_output\u001b[49m\u001b[43m(\u001b[49m\u001b[38;5;241;43m*\u001b[39;49m\u001b[43margs\u001b[49m\u001b[43m)\u001b[49m,\n\u001b[1;32m    427\u001b[0m }[output_type]()\n",
      "File \u001b[0;32m~/Downloads/PA-vergil-website/venv/lib/python3.12/site-packages/pytesseract/pytesseract.py:288\u001b[0m, in \u001b[0;36mrun_and_get_output\u001b[0;34m(image, extension, lang, config, nice, timeout, return_bytes)\u001b[0m\n\u001b[1;32m    277\u001b[0m \u001b[38;5;28;01mwith\u001b[39;00m save(image) \u001b[38;5;28;01mas\u001b[39;00m (temp_name, input_filename):\n\u001b[1;32m    278\u001b[0m     kwargs \u001b[38;5;241m=\u001b[39m {\n\u001b[1;32m    279\u001b[0m         \u001b[38;5;124m'\u001b[39m\u001b[38;5;124minput_filename\u001b[39m\u001b[38;5;124m'\u001b[39m: input_filename,\n\u001b[1;32m    280\u001b[0m         \u001b[38;5;124m'\u001b[39m\u001b[38;5;124moutput_filename_base\u001b[39m\u001b[38;5;124m'\u001b[39m: temp_name,\n\u001b[0;32m   (...)\u001b[0m\n\u001b[1;32m    285\u001b[0m         \u001b[38;5;124m'\u001b[39m\u001b[38;5;124mtimeout\u001b[39m\u001b[38;5;124m'\u001b[39m: timeout,\n\u001b[1;32m    286\u001b[0m     }\n\u001b[0;32m--> 288\u001b[0m     \u001b[43mrun_tesseract\u001b[49m\u001b[43m(\u001b[49m\u001b[38;5;241;43m*\u001b[39;49m\u001b[38;5;241;43m*\u001b[39;49m\u001b[43mkwargs\u001b[49m\u001b[43m)\u001b[49m\n\u001b[1;32m    289\u001b[0m     filename \u001b[38;5;241m=\u001b[39m \u001b[38;5;124mf\u001b[39m\u001b[38;5;124m\"\u001b[39m\u001b[38;5;132;01m{\u001b[39;00mkwargs[\u001b[38;5;124m'\u001b[39m\u001b[38;5;124moutput_filename_base\u001b[39m\u001b[38;5;124m'\u001b[39m]\u001b[38;5;132;01m}\u001b[39;00m\u001b[38;5;132;01m{\u001b[39;00mextsep\u001b[38;5;132;01m}\u001b[39;00m\u001b[38;5;132;01m{\u001b[39;00mextension\u001b[38;5;132;01m}\u001b[39;00m\u001b[38;5;124m\"\u001b[39m\n\u001b[1;32m    290\u001b[0m     \u001b[38;5;28;01mwith\u001b[39;00m \u001b[38;5;28mopen\u001b[39m(filename, \u001b[38;5;124m'\u001b[39m\u001b[38;5;124mrb\u001b[39m\u001b[38;5;124m'\u001b[39m) \u001b[38;5;28;01mas\u001b[39;00m output_file:\n",
      "File \u001b[0;32m~/Downloads/PA-vergil-website/venv/lib/python3.12/site-packages/pytesseract/pytesseract.py:264\u001b[0m, in \u001b[0;36mrun_tesseract\u001b[0;34m(input_filename, output_filename_base, extension, lang, config, nice, timeout)\u001b[0m\n\u001b[1;32m    262\u001b[0m \u001b[38;5;28;01mwith\u001b[39;00m timeout_manager(proc, timeout) \u001b[38;5;28;01mas\u001b[39;00m error_string:\n\u001b[1;32m    263\u001b[0m     \u001b[38;5;28;01mif\u001b[39;00m proc\u001b[38;5;241m.\u001b[39mreturncode:\n\u001b[0;32m--> 264\u001b[0m         \u001b[38;5;28;01mraise\u001b[39;00m TesseractError(proc\u001b[38;5;241m.\u001b[39mreturncode, get_errors(error_string))\n",
      "\u001b[0;31mTesseractError\u001b[0m: (1, 'Error, cannot read input file /Users/bailey/Downloads/data-science/Vergil-OCR-test/images/forbes-demo-eng.jpg: No such file or directory Error during processing.')"
     ]
    }
   ],
   "source": [
    "import pytesseract\n",
    "\n",
    "text = pytesseract.image_to_string('/Users/bailey/Downloads/data-science/Vergil-OCR-test/images/forbes-demo-eng.jpg')\n",
    "print(text)"
   ]
  },
  {
   "cell_type": "code",
   "execution_count": null,
   "metadata": {},
   "outputs": [
    {
     "ename": "ModuleNotFoundError",
     "evalue": "No module named 'requests'",
     "output_type": "error",
     "traceback": [
      "\u001b[0;31m---------------------------------------------------------------------------\u001b[0m",
      "\u001b[0;31mModuleNotFoundError\u001b[0m                       Traceback (most recent call last)",
      "\u001b[1;32m/Users/bailey/Downloads/PA-vergil-website/Vergil-OCR-test/forbes-eng-demo.ipynb Cell 2\u001b[0m line \u001b[0;36m2\n\u001b[1;32m      <a href='vscode-notebook-cell:/Users/bailey/Downloads/PA-vergil-website/Vergil-OCR-test/forbes-eng-demo.ipynb#W5sZmlsZQ%3D%3D?line=0'>1</a>\u001b[0m \u001b[39mimport\u001b[39;00m \u001b[39mio\u001b[39;00m\n\u001b[0;32m----> <a href='vscode-notebook-cell:/Users/bailey/Downloads/PA-vergil-website/Vergil-OCR-test/forbes-eng-demo.ipynb#W5sZmlsZQ%3D%3D?line=1'>2</a>\u001b[0m \u001b[39mimport\u001b[39;00m \u001b[39mrequests\u001b[39;00m\n\u001b[1;32m      <a href='vscode-notebook-cell:/Users/bailey/Downloads/PA-vergil-website/Vergil-OCR-test/forbes-eng-demo.ipynb#W5sZmlsZQ%3D%3D?line=2'>3</a>\u001b[0m \u001b[39mimport\u001b[39;00m \u001b[39mpytesseract\u001b[39;00m\n\u001b[1;32m      <a href='vscode-notebook-cell:/Users/bailey/Downloads/PA-vergil-website/Vergil-OCR-test/forbes-eng-demo.ipynb#W5sZmlsZQ%3D%3D?line=3'>4</a>\u001b[0m \u001b[39mfrom\u001b[39;00m \u001b[39mPIL\u001b[39;00m \u001b[39mimport\u001b[39;00m Image\n",
      "\u001b[0;31mModuleNotFoundError\u001b[0m: No module named 'requests'"
     ]
    }
   ],
   "source": [
    "import io\n",
    "import requests\n",
    "import pytesseract\n",
    "from PIL import Image\n",
    "response = requests.get(\"https://d2jaiao3zdxbzm.cloudfront.net/wp-content/uploads/figure-65.png\")\n",
    "# print( type(response) ) # <class 'requests.models.Response'>\n",
    "img = Image.open(io.BytesIO(response.content))\n",
    "# print( type(img) ) # <class 'PIL.JpegImagePlugin.JpegImageFile'>\n",
    "text = pytesseract.image_to_string(img)\n",
    "print( text )"
   ]
  },
  {
   "cell_type": "code",
   "execution_count": null,
   "metadata": {},
   "outputs": [
    {
     "name": "stdout",
     "output_type": "stream",
     "text": [
      "ORIGINAL\n",
      " über das\n",
      "\n",
      "TRANSLATED\n",
      " über das\n",
      "\n",
      "Translated(src=de, dest=en, text=about the, pronunciation=None, extra_data=\"{'confiden...\")\n"
     ]
    }
   ],
   "source": [
    "import pytesseract\n",
    "from googletrans import Translator\n",
    "from PIL import Image\n",
    "\n",
    "translator = Translator()\n",
    "im = Image.open(\"/Users/bailey/Downloads/data-science/Vergil-OCR-test/images/uber-das.png\")\n",
    "\n",
    "text = pytesseract.image_to_string(im, lang = 'deu')\n",
    "print(\"ORIGINAL\\n\",text)\n",
    "\n",
    "translation = translator.translate(text, dest='en')\n",
    "print(\"TRANSLATED\\n\",text)\n",
    "print(translation)"
   ]
  },
  {
   "cell_type": "markdown",
   "metadata": {},
   "source": [
    "Notes:\n",
    "- doesn't read the scanned version of deu.jpg well at all; reads unscanned ver. of jahrenbericht better than the scanned version..\n",
    "- doesn't pick up on 'uber des' and some of the smaller text.\n",
    "- bad at latin\n",
    "    - better at scanned; cannot decipher V as translation horrible as expected"
   ]
  },
  {
   "cell_type": "code",
   "execution_count": 125,
   "metadata": {},
   "outputs": [
    {
     "name": "stderr",
     "output_type": "stream",
     "text": [
      "<>:26: SyntaxWarning: invalid escape sequence '\\?'\n",
      "<>:26: SyntaxWarning: invalid escape sequence '\\?'\n",
      "/var/folders/st/vmdh21yx7z921b5950g1xycw0000gn/T/ipykernel_66059/418801127.py:26: SyntaxWarning: invalid escape sequence '\\?'\n",
      "  for link in soup.find_all(\"a\",href=re.compile(\"(?<=/url\\?q=)(htt.*://.*)\")):\n",
      "/var/folders/st/vmdh21yx7z921b5950g1xycw0000gn/T/ipykernel_66059/418801127.py:26: SyntaxWarning: invalid escape sequence '\\?'\n",
      "  for link in soup.find_all(\"a\",href=re.compile(\"(?<=/url\\?q=)(htt.*://.*)\")):\n"
     ]
    },
    {
     "ename": "AttributeError",
     "evalue": "ResultSet object has no attribute 'next'. You're probably treating a list of elements like a single element. Did you call find_all() when you meant to call find()?",
     "output_type": "error",
     "traceback": [
      "\u001b[0;31m---------------------------------------------------------------------------\u001b[0m",
      "\u001b[0;31mAttributeError\u001b[0m                            Traceback (most recent call last)",
      "Cell \u001b[0;32mIn[125], line 116\u001b[0m\n\u001b[1;32m    114\u001b[0m         search\u001b[38;5;241m=\u001b[39m\u001b[38;5;124m'\u001b[39m\u001b[38;5;124mpublisher-\u001b[39m\u001b[38;5;124m'\u001b[39m\u001b[38;5;241m+\u001b[39mcode\n\u001b[1;32m    115\u001b[0m         spans \u001b[38;5;241m=\u001b[39m soup\u001b[38;5;241m.\u001b[39mfind_all(\u001b[38;5;124m'\u001b[39m\u001b[38;5;124mspan\u001b[39m\u001b[38;5;124m'\u001b[39m, {\u001b[38;5;124m'\u001b[39m\u001b[38;5;124mdata-testid\u001b[39m\u001b[38;5;124m'\u001b[39m : search})\n\u001b[0;32m--> 116\u001b[0m         \u001b[38;5;28mprint\u001b[39m(\u001b[43mspans\u001b[49m\u001b[38;5;241;43m.\u001b[39;49m\u001b[43mnext\u001b[49m)\n\u001b[1;32m    117\u001b[0m \u001b[38;5;28;01mbreak\u001b[39;00m\n\u001b[1;32m    118\u001b[0m \u001b[38;5;28mprint\u001b[39m(xls\u001b[38;5;241m.\u001b[39mloc[i, [\u001b[38;5;124m'\u001b[39m\u001b[38;5;124mPublisher (IntArc)\u001b[39m\u001b[38;5;124m'\u001b[39m,\u001b[38;5;124m'\u001b[39m\u001b[38;5;124mLanguage (IntArc)\u001b[39m\u001b[38;5;124m'\u001b[39m,\u001b[38;5;124m'\u001b[39m\u001b[38;5;124mContributor (IntArc)\u001b[39m\u001b[38;5;124m'\u001b[39m]])            \n",
      "File \u001b[0;32m~/Downloads/PA-vergil-website/venv/lib/python3.12/site-packages/bs4/element.py:2433\u001b[0m, in \u001b[0;36mResultSet.__getattr__\u001b[0;34m(self, key)\u001b[0m\n\u001b[1;32m   2431\u001b[0m \u001b[38;5;28;01mdef\u001b[39;00m \u001b[38;5;21m__getattr__\u001b[39m(\u001b[38;5;28mself\u001b[39m, key):\n\u001b[1;32m   2432\u001b[0m \u001b[38;5;250m    \u001b[39m\u001b[38;5;124;03m\"\"\"Raise a helpful exception to explain a common code fix.\"\"\"\u001b[39;00m\n\u001b[0;32m-> 2433\u001b[0m     \u001b[38;5;28;01mraise\u001b[39;00m \u001b[38;5;167;01mAttributeError\u001b[39;00m(\n\u001b[1;32m   2434\u001b[0m         \u001b[38;5;124m\"\u001b[39m\u001b[38;5;124mResultSet object has no attribute \u001b[39m\u001b[38;5;124m'\u001b[39m\u001b[38;5;132;01m%s\u001b[39;00m\u001b[38;5;124m'\u001b[39m\u001b[38;5;124m. You\u001b[39m\u001b[38;5;124m'\u001b[39m\u001b[38;5;124mre probably treating a list of elements like a single element. Did you call find_all() when you meant to call find()?\u001b[39m\u001b[38;5;124m\"\u001b[39m \u001b[38;5;241m%\u001b[39m key\n\u001b[1;32m   2435\u001b[0m     )\n",
      "\u001b[0;31mAttributeError\u001b[0m: ResultSet object has no attribute 'next'. You're probably treating a list of elements like a single element. Did you call find_all() when you meant to call find()?"
     ]
    }
   ],
   "source": [
    "import pandas as pd\n",
    "import requests\n",
    "from bs4 import BeautifulSoup\n",
    "import re\n",
    "\n",
    "xls = pd.read_excel(\"/Users/bailey/Downloads/PA-vergil-website/Vergil-OCR-test/PAVergilWebsite_BaileyXu_2024.xlsx\", \n",
    "                    'Website - Draft (Print info.)',\n",
    "                    header=0, \n",
    "                    skiprows=[0])\n",
    "xls['Date (Print):'] = xls['Date (Print):'].str.replace('.','')\n",
    "xls['Publisher (IntArc)'] = None\n",
    "xls['Language (IntArc)'] = None\n",
    "xls['Contributor (IntArc)'] = None\n",
    "\n",
    "for i in range (len(xls)):\n",
    "    title = str(xls[\"Title/Description (Print – Original):\"][i])[:100]\n",
    "    date = str(xls[\"Date (Print):\"][i])\n",
    "    if (title=='[-]'):\n",
    "        continue\n",
    "        \n",
    "    out_link = \"https://www.google.com/search?q=\" + '+'.join(title.split(' '))\n",
    "    page = requests.get(out_link)\n",
    "    soup = BeautifulSoup(page.content)\n",
    "\n",
    "    links = []\n",
    "    for link in soup.find_all(\"a\",href=re.compile(\"(?<=/url\\?q=)(htt.*://.*)\")):\n",
    "        for l in re.split(\":(?=http)\",link[\"href\"].replace(\"/url?q=\",\"\")):\n",
    "            links.append(l)\n",
    "\n",
    "    links = [link for link in links if ((link.find(\"archive.org/details/\") > 0) or (link.find(\"search.worldcat.org\") > 0))]\n",
    "    clean_links = []\n",
    "    for link in links:\n",
    "        if (link.find(\"search.worldcat.org\") > 0):\n",
    "            clean_links.append(link.split(\"&\")[0])\n",
    "        else:\n",
    "            clean_links.append(link)\n",
    "    # print(clean_links)\n",
    "    \n",
    "    for link in clean_links:\n",
    "        page = requests.get(link)\n",
    "        soup = BeautifulSoup(page.content)\n",
    "        # if (link.find(\"archive.org/details/\") > 0):\n",
    "        #     # check publication year\n",
    "        #     spans = soup.find('span', {'itemprop' : 'datePublished'})\n",
    "        #     link_date = spans.get_text()\n",
    "        #     if (date!=link_date):\n",
    "        #         print(f\"Mismatched date for {title} {link}\")\n",
    "        #         continue\n",
    "            \n",
    "        #     # Get Publisher\n",
    "        #     try:\n",
    "        #         spans = soup.find_all('span', {'itemprop' : 'publisher'})\n",
    "        #         publisher = spans[0].get_text()\n",
    "        #         print(publisher)\n",
    "        #         xls.loc[i, 'Publisher (IntArc)'] = publisher\n",
    "        #     except:\n",
    "        #         print(f\"Publisher Failed for {title} {link}\")\n",
    "        #         pass\n",
    "                \n",
    "        #     # Get Language\n",
    "        #     try:\n",
    "        #         spans = soup.find_all('a',href=True)\n",
    "        #         for span in spans:\n",
    "        #             if (span['href'].find(\"28language%\") > 0):\n",
    "        #                 lang = span.next\n",
    "        #                 print(lang)\n",
    "        #                 xls.loc[i, 'Language (IntArc)'] = lang\n",
    "        #                 break\n",
    "        #     except:\n",
    "        #         print(f\"Language Failed for {title} {link}\")\n",
    "        #         pass\n",
    "                \n",
    "        #     # Get Contributor\n",
    "        #     try:\n",
    "        #         spans = soup.find('dl', {'class' : 'metadata-definition'})\n",
    "        #         if (spans.get_text().find(\"by\") > 0):\n",
    "        #             cont = spans.get_text().strip(' by\\n')\n",
    "        #             print(cont)\n",
    "        #             xls.loc[i, 'Contributor (IntArc)'] = cont\n",
    "        #     except:\n",
    "        #         print(f\"Contributor Failed for {title} {link}\")\n",
    "        #         pass\n",
    "            \n",
    "        #     # Get pdf link\n",
    "        # el\n",
    "        if (link.find(\"search.worldcat.org\") > 0):\n",
    "            code = link.find(\"oclc/\") + 5\n",
    "            code = link[code:]\n",
    "            # print(code)\n",
    "            \n",
    "            # check publication year + get language\n",
    "            # try:\n",
    "            #     search='format-'+code\n",
    "            #     texts = soup.find('span', {'data-testid' : search}).parent\n",
    "            #     spans = texts.find_all('span')\n",
    "            #     lang = spans[-1].next\n",
    "    \n",
    "            #     texts = str(texts)\n",
    "            #     year = re.findall(r'\\d+', texts[-12:])\n",
    "            #     year = int(year[0])\n",
    "            # except:\n",
    "            #     pass\n",
    "\n",
    "            # # Get authors\n",
    "            # search='author-'+code\n",
    "            # spans = soup.find_all('span', {'aria-labelledby' : search})\n",
    "            # for span in spans:\n",
    "            #     temp = span.find_all('a')\n",
    "                \n",
    "            #     for l in temp:\n",
    "            #         # print(l.next)\n",
    "\n",
    "            # Get publisher\n",
    "            search='publisher-'+code\n",
    "            spans = soup.find_all('span', {'data-testid' : search})\n",
    "            print(spans.next)\n",
    "    break\n",
    "    print(xls.loc[i, ['Publisher (IntArc)','Language (IntArc)','Contributor (IntArc)']])            "
   ]
  },
  {
   "cell_type": "code",
   "execution_count": 117,
   "metadata": {},
   "outputs": [
    {
     "data": {
      "text/plain": [
       "0       None\n",
       "1       None\n",
       "2       None\n",
       "3       None\n",
       "4       None\n",
       "        ... \n",
       "1461    None\n",
       "1462    None\n",
       "1463    None\n",
       "1464    None\n",
       "1465    None\n",
       "Name: Publisher (IntArc), Length: 1466, dtype: object"
      ]
     },
     "execution_count": 117,
     "metadata": {},
     "output_type": "execute_result"
    }
   ],
   "source": [
    "xls['Publisher (IntArc)']"
   ]
  },
  {
   "cell_type": "code",
   "execution_count": 118,
   "metadata": {},
   "outputs": [
    {
     "data": {
      "text/plain": [
       "0       None\n",
       "1       None\n",
       "2       None\n",
       "3       None\n",
       "4       None\n",
       "        ... \n",
       "1461    None\n",
       "1462    None\n",
       "1463    None\n",
       "1464    None\n",
       "1465    None\n",
       "Name: Contributor (IntArc), Length: 1466, dtype: object"
      ]
     },
     "execution_count": 118,
     "metadata": {},
     "output_type": "execute_result"
    }
   ],
   "source": [
    "xls['Contributor (IntArc)']"
   ]
  },
  {
   "cell_type": "code",
   "execution_count": 119,
   "metadata": {},
   "outputs": [
    {
     "data": {
      "text/plain": [
       "0       None\n",
       "1       None\n",
       "2       None\n",
       "3       None\n",
       "4       None\n",
       "        ... \n",
       "1461    None\n",
       "1462    None\n",
       "1463    None\n",
       "1464    None\n",
       "1465    None\n",
       "Name: Language (IntArc), Length: 1466, dtype: object"
      ]
     },
     "execution_count": 119,
     "metadata": {},
     "output_type": "execute_result"
    }
   ],
   "source": [
    "xls['Language (IntArc)']"
   ]
  },
  {
   "cell_type": "code",
   "execution_count": null,
   "metadata": {},
   "outputs": [],
   "source": []
  },
  {
   "cell_type": "code",
   "execution_count": null,
   "metadata": {},
   "outputs": [],
   "source": []
  },
  {
   "cell_type": "code",
   "execution_count": null,
   "metadata": {},
   "outputs": [],
   "source": []
  }
 ],
 "metadata": {
  "kernelspec": {
   "display_name": "pavergilvenv",
   "language": "python",
   "name": "venv"
  },
  "language_info": {
   "codemirror_mode": {
    "name": "ipython",
    "version": 3
   },
   "file_extension": ".py",
   "mimetype": "text/x-python",
   "name": "python",
   "nbconvert_exporter": "python",
   "pygments_lexer": "ipython3",
   "version": "3.12.3"
  }
 },
 "nbformat": 4,
 "nbformat_minor": 4
}
